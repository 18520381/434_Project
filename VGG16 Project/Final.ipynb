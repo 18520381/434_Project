{
  "nbformat": 4,
  "nbformat_minor": 0,
  "metadata": {
    "colab": {
      "name": "Final.ipynb",
      "provenance": [],
      "collapsed_sections": [],
      "include_colab_link": true
    },
    "kernelspec": {
      "display_name": "Python 3",
      "name": "python3"
    },
    "language_info": {
      "name": "python"
    }
  },
  "cells": [
    {
      "cell_type": "markdown",
      "metadata": {
        "id": "view-in-github",
        "colab_type": "text"
      },
      "source": [
        "<a href=\"https://colab.research.google.com/github/18520381/434_Project_10/blob/main/VGG16%20Project/Final.ipynb\" target=\"_parent\"><img src=\"https://colab.research.google.com/assets/colab-badge.svg\" alt=\"Open In Colab\"/></a>"
      ]
    },
    {
      "cell_type": "markdown",
      "metadata": {
        "id": "FgVnxdGsDOxj"
      },
      "source": [
        "Get data"
      ]
    },
    {
      "cell_type": "code",
      "metadata": {
        "colab": {
          "base_uri": "https://localhost:8080/"
        },
        "id": "PZvwIoV6tdbK",
        "outputId": "894b317d-521c-4f8b-a9d7-b343c3a4b9fe"
      },
      "source": [
        "from google.colab import drive\n",
        "from torchvision import models\n",
        "drive.mount('/content/drive')\n",
        "%cd /content/drive/MyDrive/ColabNotebooks/data"
      ],
      "execution_count": 25,
      "outputs": [
        {
          "output_type": "stream",
          "text": [
            "Drive already mounted at /content/drive; to attempt to forcibly remount, call drive.mount(\"/content/drive\", force_remount=True).\n",
            "/content/drive/MyDrive/ColabNotebooks/data\n"
          ],
          "name": "stdout"
        }
      ]
    },
    {
      "cell_type": "code",
      "metadata": {
        "id": "DcZPWaaVueiw"
      },
      "source": [
        "import warnings\n",
        "warnings.filterwarnings('ignore')\n",
        "\n",
        "import cv2       \n",
        "import os\n",
        "\n",
        "import numpy as np\n",
        "import pandas as pd\n",
        "%matplotlib inline\n",
        "import matplotlib.pyplot as plt\n",
        "import seaborn as sns\n",
        "\n",
        "from keras.preprocessing.image import ImageDataGenerator\n",
        "\n",
        "from sklearn.model_selection import train_test_split\n",
        "from sklearn.metrics import confusion_matrix, accuracy_score, recall_score, classification_report\n",
        "from sklearn.preprocessing import LabelEncoder\n",
        "\n",
        "from keras.layers import Dense\n",
        "from keras.layers import Flatten, Activation\n",
        "from keras.layers import Conv2D, MaxPooling2D\n",
        "from keras.optimizers import Adam, RMSprop, SGD\n",
        "from keras.utils import to_categorical    \n",
        "from keras.models import Sequential\n",
        "from keras.applications import VGG16\n",
        "from keras.callbacks import ReduceLROnPlateau\n",
        "\n",
        "import random as rn\n",
        "from tqdm import tqdm"
      ],
      "execution_count": 50,
      "outputs": []
    },
    {
      "cell_type": "markdown",
      "metadata": {
        "id": "lZ0xHjrUDSRR"
      },
      "source": [
        "Import data"
      ]
    },
    {
      "cell_type": "code",
      "metadata": {
        "id": "XK2kpFihvgOj",
        "colab": {
          "base_uri": "https://localhost:8080/"
        },
        "outputId": "fcc27428-0db5-411b-f724-45b143fbda64"
      },
      "source": [
        "CLASS_NAME = [\"apple\", \"orange\"]\n",
        "DATA_PATH = \"../data/fruit/\"\n",
        "img_size = 112\n",
        "\n",
        "images = []\n",
        "labels = []\n",
        "pbar = tqdm(total=2000)\n",
        "for class_name in CLASS_NAME:\n",
        "    for _, _, files in os.walk(DATA_PATH+class_name, topdown=False):\n",
        "        for name in files:\n",
        "            image = cv2.imread(DATA_PATH+\"\"+class_name+\"/\"+name)\n",
        "            image = cv2.cvtColor(image, cv2.COLOR_BGR2RGB)\n",
        "            image = cv2.resize(image, (img_size,img_size))\n",
        "\n",
        "            images.append(np.array(image))\n",
        "            labels.append(str(class_name))\n",
        "\n",
        "            pbar.update(1)\n",
        "pbar.close()"
      ],
      "execution_count": 51,
      "outputs": [
        {
          "output_type": "stream",
          "text": [
            "\n",
            "  0%|          | 0/2000 [00:00<?, ?it/s]\u001b[A\n",
            "  0%|          | 5/2000 [00:00<00:41, 47.57it/s]\u001b[A\n",
            "  0%|          | 10/2000 [00:00<00:41, 47.68it/s]\u001b[A\n",
            "  1%|          | 20/2000 [00:00<00:35, 56.00it/s]\u001b[A\n",
            "  2%|▏         | 30/2000 [00:00<00:30, 64.00it/s]\u001b[A\n",
            "  2%|▏         | 41/2000 [00:00<00:26, 72.82it/s]\u001b[A\n",
            "  3%|▎         | 51/2000 [00:00<00:24, 78.21it/s]\u001b[A\n",
            "  3%|▎         | 63/2000 [00:00<00:22, 86.83it/s]\u001b[A\n",
            "  4%|▍         | 75/2000 [00:00<00:20, 91.76it/s]\u001b[A\n",
            "  4%|▍         | 87/2000 [00:00<00:19, 97.81it/s]\u001b[A\n",
            "  5%|▍         | 99/2000 [00:01<00:18, 102.13it/s]\u001b[A\n",
            "  6%|▌         | 110/2000 [00:01<00:24, 76.46it/s]\u001b[A\n",
            "  6%|▌         | 122/2000 [00:01<00:22, 85.25it/s]\u001b[A\n",
            "  7%|▋         | 132/2000 [00:01<00:21, 88.83it/s]\u001b[A\n",
            "  7%|▋         | 145/2000 [00:01<00:18, 97.84it/s]\u001b[A\n",
            "  8%|▊         | 158/2000 [00:01<00:17, 103.76it/s]\u001b[A\n",
            "  8%|▊         | 170/2000 [00:01<00:17, 107.46it/s]\u001b[A\n",
            "  9%|▉         | 182/2000 [00:01<00:16, 109.53it/s]\u001b[A\n",
            " 10%|▉         | 194/2000 [00:02<00:16, 110.05it/s]\u001b[A\n",
            " 10%|█         | 206/2000 [00:02<00:16, 111.64it/s]\u001b[A\n",
            " 11%|█         | 218/2000 [00:02<00:16, 108.21it/s]\u001b[A\n",
            " 11%|█▏        | 229/2000 [00:02<00:16, 105.92it/s]\u001b[A\n",
            " 12%|█▏        | 242/2000 [00:02<00:15, 111.38it/s]\u001b[A\n",
            " 13%|█▎        | 254/2000 [00:02<00:15, 113.13it/s]\u001b[A\n",
            " 13%|█▎        | 266/2000 [00:02<00:15, 108.82it/s]\u001b[A\n",
            " 14%|█▍        | 277/2000 [00:02<00:16, 104.62it/s]\u001b[A\n",
            " 15%|█▍        | 291/2000 [00:02<00:15, 111.97it/s]\u001b[A\n",
            " 15%|█▌        | 303/2000 [00:02<00:14, 113.82it/s]\u001b[A\n",
            " 16%|█▌        | 315/2000 [00:03<00:14, 113.04it/s]\u001b[A\n",
            " 16%|█▋        | 327/2000 [00:03<00:14, 111.94it/s]\u001b[A\n",
            " 17%|█▋        | 339/2000 [00:03<00:15, 108.96it/s]\u001b[A\n",
            " 18%|█▊        | 352/2000 [00:03<00:14, 113.35it/s]\u001b[A\n",
            " 18%|█▊        | 364/2000 [00:03<00:22, 71.25it/s] \u001b[A\n",
            " 19%|█▊        | 374/2000 [00:03<00:21, 77.31it/s]\u001b[A\n",
            " 19%|█▉        | 386/2000 [00:03<00:18, 86.28it/s]\u001b[A\n",
            " 20%|█▉        | 398/2000 [00:04<00:17, 93.51it/s]\u001b[A\n",
            " 21%|██        | 411/2000 [00:04<00:15, 100.52it/s]\u001b[A\n",
            " 21%|██        | 423/2000 [00:04<00:15, 101.87it/s]\u001b[A\n",
            " 22%|██▏       | 435/2000 [00:04<00:14, 106.31it/s]\u001b[A\n",
            " 22%|██▏       | 447/2000 [00:04<00:14, 104.14it/s]\u001b[A\n",
            " 23%|██▎       | 461/2000 [00:04<00:13, 111.53it/s]\u001b[A\n",
            " 24%|██▎       | 474/2000 [00:04<00:13, 114.75it/s]\u001b[A\n",
            " 24%|██▍       | 486/2000 [00:04<00:13, 112.63it/s]\u001b[A\n",
            " 25%|██▍       | 498/2000 [00:04<00:13, 109.52it/s]\u001b[A\n",
            " 26%|██▌       | 510/2000 [00:05<00:14, 105.24it/s]\u001b[A\n",
            " 26%|██▌       | 521/2000 [00:05<00:13, 106.02it/s]\u001b[A\n",
            " 27%|██▋       | 533/2000 [00:05<00:13, 105.02it/s]\u001b[A\n",
            " 27%|██▋       | 545/2000 [00:05<00:13, 108.42it/s]\u001b[A\n",
            " 28%|██▊       | 556/2000 [00:05<00:13, 108.75it/s]\u001b[A\n",
            " 28%|██▊       | 568/2000 [00:05<00:12, 110.57it/s]\u001b[A\n",
            " 29%|██▉       | 581/2000 [00:05<00:12, 115.21it/s]\u001b[A\n",
            " 30%|██▉       | 593/2000 [00:05<00:12, 113.16it/s]\u001b[A\n",
            " 30%|███       | 606/2000 [00:05<00:13, 100.58it/s]\u001b[A\n",
            " 31%|███       | 618/2000 [00:06<00:13, 104.91it/s]\u001b[A\n",
            " 32%|███▏      | 630/2000 [00:06<00:12, 108.72it/s]\u001b[A\n",
            " 32%|███▏      | 642/2000 [00:06<00:12, 110.67it/s]\u001b[A\n",
            " 33%|███▎      | 655/2000 [00:06<00:11, 113.26it/s]\u001b[A\n",
            " 33%|███▎      | 668/2000 [00:06<00:11, 116.24it/s]\u001b[A\n",
            " 34%|███▍      | 681/2000 [00:06<00:11, 118.79it/s]\u001b[A\n",
            " 35%|███▍      | 693/2000 [00:06<00:10, 118.98it/s]\u001b[A\n",
            " 35%|███▌      | 706/2000 [00:06<00:10, 121.00it/s]\u001b[A\n",
            " 36%|███▌      | 719/2000 [00:06<00:10, 119.89it/s]\u001b[A\n",
            " 37%|███▋      | 732/2000 [00:07<00:11, 115.21it/s]\u001b[A\n",
            " 37%|███▋      | 744/2000 [00:07<00:10, 115.35it/s]\u001b[A\n",
            " 38%|███▊      | 757/2000 [00:07<00:10, 118.50it/s]\u001b[A\n",
            " 38%|███▊      | 770/2000 [00:07<00:10, 120.03it/s]\u001b[A\n",
            " 39%|███▉      | 783/2000 [00:07<00:10, 120.16it/s]\u001b[A\n",
            " 40%|███▉      | 796/2000 [00:07<00:10, 120.19it/s]\u001b[A\n",
            " 40%|████      | 809/2000 [00:07<00:10, 116.15it/s]\u001b[A\n",
            " 41%|████      | 821/2000 [00:07<00:10, 116.99it/s]\u001b[A\n",
            " 42%|████▏     | 833/2000 [00:07<00:10, 112.88it/s]\u001b[A\n",
            " 42%|████▏     | 845/2000 [00:07<00:10, 111.91it/s]\u001b[A\n",
            " 43%|████▎     | 857/2000 [00:08<00:10, 107.29it/s]\u001b[A\n",
            " 43%|████▎     | 869/2000 [00:08<00:10, 108.20it/s]\u001b[A\n",
            " 44%|████▍     | 880/2000 [00:08<00:10, 107.30it/s]\u001b[A\n",
            " 45%|████▍     | 892/2000 [00:08<00:10, 106.74it/s]\u001b[A\n",
            " 45%|████▌     | 903/2000 [00:08<00:10, 103.08it/s]\u001b[A\n",
            " 46%|████▌     | 916/2000 [00:08<00:10, 107.88it/s]\u001b[A\n",
            " 46%|████▋     | 927/2000 [00:08<00:10, 102.35it/s]\u001b[A\n",
            " 47%|████▋     | 941/2000 [00:08<00:09, 110.60it/s]\u001b[A\n",
            " 48%|████▊     | 953/2000 [00:08<00:09, 112.87it/s]\u001b[A\n",
            " 48%|████▊     | 966/2000 [00:09<00:08, 116.48it/s]\u001b[A\n",
            " 49%|████▉     | 978/2000 [00:09<00:08, 114.55it/s]\u001b[A\n",
            " 50%|████▉     | 990/2000 [00:09<00:09, 105.11it/s]\u001b[A\n",
            " 50%|█████     | 1001/2000 [00:09<00:09, 102.14it/s]\u001b[A\n",
            " 51%|█████     | 1012/2000 [00:09<00:11, 88.16it/s] \u001b[A\n",
            " 51%|█████     | 1022/2000 [00:09<00:11, 84.05it/s]\u001b[A\n",
            " 52%|█████▏    | 1031/2000 [00:10<00:16, 59.30it/s]\u001b[A\n",
            " 52%|█████▏    | 1039/2000 [00:10<00:15, 62.59it/s]\u001b[A\n",
            " 53%|█████▎    | 1051/2000 [00:10<00:13, 72.65it/s]\u001b[A\n",
            " 53%|█████▎    | 1062/2000 [00:10<00:11, 80.80it/s]\u001b[A\n",
            " 54%|█████▎    | 1074/2000 [00:10<00:10, 89.25it/s]\u001b[A\n",
            " 54%|█████▍    | 1087/2000 [00:10<00:09, 96.52it/s]\u001b[A\n",
            " 55%|█████▍    | 1099/2000 [00:10<00:08, 101.12it/s]\u001b[A\n",
            " 56%|█████▌    | 1111/2000 [00:10<00:08, 105.25it/s]\u001b[A\n",
            " 56%|█████▌    | 1124/2000 [00:10<00:07, 110.61it/s]\u001b[A\n",
            " 57%|█████▋    | 1136/2000 [00:10<00:07, 113.00it/s]\u001b[A\n",
            " 57%|█████▋    | 1149/2000 [00:11<00:07, 116.12it/s]\u001b[A\n",
            " 58%|█████▊    | 1161/2000 [00:11<00:07, 112.56it/s]\u001b[A\n",
            " 59%|█████▊    | 1173/2000 [00:11<00:07, 105.24it/s]\u001b[A\n",
            " 59%|█████▉    | 1186/2000 [00:11<00:07, 110.17it/s]\u001b[A\n",
            " 60%|█████▉    | 1199/2000 [00:11<00:07, 114.29it/s]\u001b[A\n",
            " 61%|██████    | 1211/2000 [00:11<00:07, 112.32it/s]\u001b[A\n",
            " 61%|██████    | 1223/2000 [00:11<00:06, 113.22it/s]\u001b[A\n",
            " 62%|██████▏   | 1235/2000 [00:11<00:06, 112.22it/s]\u001b[A\n",
            " 62%|██████▏   | 1247/2000 [00:11<00:06, 111.08it/s]\u001b[A\n",
            " 63%|██████▎   | 1259/2000 [00:12<00:06, 110.03it/s]\u001b[A\n",
            " 64%|██████▎   | 1271/2000 [00:12<00:06, 108.73it/s]\u001b[A\n",
            " 64%|██████▍   | 1282/2000 [00:12<00:06, 105.61it/s]\u001b[A\n",
            " 65%|██████▍   | 1294/2000 [00:12<00:06, 108.33it/s]\u001b[A\n",
            " 65%|██████▌   | 1305/2000 [00:12<00:06, 104.22it/s]\u001b[A\n",
            " 66%|██████▌   | 1317/2000 [00:12<00:06, 108.10it/s]\u001b[A\n",
            " 66%|██████▋   | 1328/2000 [00:12<00:06, 108.41it/s]\u001b[A\n",
            " 67%|██████▋   | 1339/2000 [00:12<00:06, 105.88it/s]\u001b[A\n",
            " 68%|██████▊   | 1350/2000 [00:12<00:06, 104.91it/s]\u001b[A\n",
            " 68%|██████▊   | 1362/2000 [00:13<00:05, 107.49it/s]\u001b[A\n",
            " 69%|██████▉   | 1375/2000 [00:13<00:05, 113.19it/s]\u001b[A\n",
            " 69%|██████▉   | 1387/2000 [00:13<00:05, 114.75it/s]\u001b[A\n",
            " 70%|██████▉   | 1399/2000 [00:13<00:05, 110.18it/s]\u001b[A\n",
            " 71%|███████   | 1411/2000 [00:13<00:05, 109.12it/s]\u001b[A\n",
            " 71%|███████   | 1423/2000 [00:13<00:05, 110.32it/s]\u001b[A\n",
            " 72%|███████▏  | 1435/2000 [00:13<00:05, 109.19it/s]\u001b[A\n",
            " 72%|███████▏  | 1446/2000 [00:13<00:05, 107.13it/s]\u001b[A\n",
            " 73%|███████▎  | 1458/2000 [00:13<00:04, 110.29it/s]\u001b[A\n",
            " 74%|███████▎  | 1470/2000 [00:13<00:04, 110.65it/s]\u001b[A\n",
            " 74%|███████▍  | 1482/2000 [00:14<00:04, 111.85it/s]\u001b[A\n",
            " 75%|███████▍  | 1494/2000 [00:14<00:04, 114.08it/s]\u001b[A\n",
            " 75%|███████▌  | 1506/2000 [00:14<00:04, 113.94it/s]\u001b[A\n",
            " 76%|███████▌  | 1518/2000 [00:14<00:04, 113.38it/s]\u001b[A\n",
            " 76%|███████▋  | 1530/2000 [00:14<00:04, 114.87it/s]\u001b[A\n",
            " 77%|███████▋  | 1542/2000 [00:14<00:04, 113.68it/s]\u001b[A\n",
            " 78%|███████▊  | 1554/2000 [00:14<00:03, 114.54it/s]\u001b[A\n",
            " 78%|███████▊  | 1566/2000 [00:14<00:03, 113.72it/s]\u001b[A\n",
            " 79%|███████▉  | 1578/2000 [00:14<00:03, 112.94it/s]\u001b[A\n",
            " 80%|███████▉  | 1591/2000 [00:15<00:03, 113.31it/s]\u001b[A\n",
            " 80%|████████  | 1603/2000 [00:15<00:03, 106.04it/s]\u001b[A\n",
            " 81%|████████  | 1616/2000 [00:15<00:03, 110.57it/s]\u001b[A\n",
            " 81%|████████▏ | 1628/2000 [00:15<00:03, 110.45it/s]\u001b[A\n",
            " 82%|████████▏ | 1640/2000 [00:15<00:03, 103.72it/s]\u001b[A\n",
            " 83%|████████▎ | 1651/2000 [00:15<00:03, 101.24it/s]\u001b[A\n",
            " 83%|████████▎ | 1663/2000 [00:15<00:03, 104.42it/s]\u001b[A\n",
            " 84%|████████▎ | 1674/2000 [00:15<00:03, 104.74it/s]\u001b[A\n",
            " 84%|████████▍ | 1687/2000 [00:15<00:02, 109.69it/s]\u001b[A\n",
            " 85%|████████▍ | 1699/2000 [00:16<00:02, 107.08it/s]\u001b[A\n",
            " 86%|████████▌ | 1710/2000 [00:16<00:02, 107.33it/s]\u001b[A\n",
            " 86%|████████▌ | 1721/2000 [00:16<00:02, 108.06it/s]\u001b[A\n",
            " 87%|████████▋ | 1734/2000 [00:16<00:02, 113.56it/s]\u001b[A\n",
            " 87%|████████▋ | 1746/2000 [00:16<00:02, 111.37it/s]\u001b[A\n",
            " 88%|████████▊ | 1758/2000 [00:16<00:02, 107.31it/s]\u001b[A\n",
            " 88%|████████▊ | 1770/2000 [00:16<00:02, 110.30it/s]\u001b[A\n",
            " 89%|████████▉ | 1782/2000 [00:16<00:01, 112.09it/s]\u001b[A\n",
            " 90%|████████▉ | 1794/2000 [00:16<00:01, 111.03it/s]\u001b[A\n",
            " 90%|█████████ | 1806/2000 [00:17<00:01, 107.89it/s]\u001b[A\n",
            " 91%|█████████ | 1817/2000 [00:17<00:01, 107.92it/s]\u001b[A\n",
            " 91%|█████████▏| 1828/2000 [00:17<00:01, 106.06it/s]\u001b[A\n",
            " 92%|█████████▏| 1841/2000 [00:17<00:01, 108.92it/s]\u001b[A\n",
            " 93%|█████████▎| 1852/2000 [00:17<00:01, 108.69it/s]\u001b[A\n",
            " 93%|█████████▎| 1863/2000 [00:17<00:01, 108.15it/s]\u001b[A\n",
            " 94%|█████████▍| 1875/2000 [00:17<00:01, 110.30it/s]\u001b[A\n",
            " 94%|█████████▍| 1887/2000 [00:17<00:01, 110.40it/s]\u001b[A\n",
            " 95%|█████████▍| 1899/2000 [00:17<00:00, 110.09it/s]\u001b[A\n",
            " 96%|█████████▌| 1911/2000 [00:18<00:00, 106.02it/s]\u001b[A\n",
            " 96%|█████████▌| 1922/2000 [00:18<00:00, 103.82it/s]\u001b[A\n",
            " 97%|█████████▋| 1935/2000 [00:18<00:00, 109.25it/s]\u001b[A\n",
            " 97%|█████████▋| 1948/2000 [00:18<00:00, 112.10it/s]\u001b[A\n",
            " 98%|█████████▊| 1960/2000 [00:18<00:00, 114.30it/s]\u001b[A\n",
            " 99%|█████████▊| 1972/2000 [00:18<00:00, 109.05it/s]\u001b[A\n",
            " 99%|█████████▉| 1984/2000 [00:18<00:00, 108.75it/s]\u001b[A\n",
            "100%|██████████| 2000/2000 [00:18<00:00, 106.32it/s]\n"
          ],
          "name": "stderr"
        }
      ]
    },
    {
      "cell_type": "code",
      "metadata": {
        "id": "_s--racg2C_U"
      },
      "source": [
        "data = np.array(images)\n",
        "labels = np.array(labels)"
      ],
      "execution_count": 52,
      "outputs": []
    },
    {
      "cell_type": "code",
      "metadata": {
        "id": "0W2AvPG92-ur"
      },
      "source": [
        "le = LabelEncoder()\n",
        "y = le.fit_transform(labels)\n",
        "y = to_categorical(y, 2)\n",
        "X = data/255\n",
        "X_train, X_test, y_train, y_test = train_test_split(X, y, test_size = 0.2, random_state = 5)\n",
        "\n",
        "np.random.seed(50)\n",
        "rn.seed(50)"
      ],
      "execution_count": 53,
      "outputs": []
    },
    {
      "cell_type": "markdown",
      "metadata": {
        "id": "WfdrpX1f4awD"
      },
      "source": [
        "Preparing Base model"
      ]
    },
    {
      "cell_type": "code",
      "metadata": {
        "colab": {
          "base_uri": "https://localhost:8080/"
        },
        "id": "Nr3U_pdw4b2W",
        "outputId": "2a238032-48e0-4c69-b463-9965163b66e3"
      },
      "source": [
        "Base_model = VGG16(include_top= False, weights='imagenet',input_shape=(img_size,img_size,3), pooling='max')\n",
        "Base_model.summary()"
      ],
      "execution_count": 54,
      "outputs": [
        {
          "output_type": "stream",
          "text": [
            "Model: \"vgg16\"\n",
            "_________________________________________________________________\n",
            "Layer (type)                 Output Shape              Param #   \n",
            "=================================================================\n",
            "input_3 (InputLayer)         [(None, 112, 112, 3)]     0         \n",
            "_________________________________________________________________\n",
            "block1_conv1 (Conv2D)        (None, 112, 112, 64)      1792      \n",
            "_________________________________________________________________\n",
            "block1_conv2 (Conv2D)        (None, 112, 112, 64)      36928     \n",
            "_________________________________________________________________\n",
            "block1_pool (MaxPooling2D)   (None, 56, 56, 64)        0         \n",
            "_________________________________________________________________\n",
            "block2_conv1 (Conv2D)        (None, 56, 56, 128)       73856     \n",
            "_________________________________________________________________\n",
            "block2_conv2 (Conv2D)        (None, 56, 56, 128)       147584    \n",
            "_________________________________________________________________\n",
            "block2_pool (MaxPooling2D)   (None, 28, 28, 128)       0         \n",
            "_________________________________________________________________\n",
            "block3_conv1 (Conv2D)        (None, 28, 28, 256)       295168    \n",
            "_________________________________________________________________\n",
            "block3_conv2 (Conv2D)        (None, 28, 28, 256)       590080    \n",
            "_________________________________________________________________\n",
            "block3_conv3 (Conv2D)        (None, 28, 28, 256)       590080    \n",
            "_________________________________________________________________\n",
            "block3_pool (MaxPooling2D)   (None, 14, 14, 256)       0         \n",
            "_________________________________________________________________\n",
            "block4_conv1 (Conv2D)        (None, 14, 14, 512)       1180160   \n",
            "_________________________________________________________________\n",
            "block4_conv2 (Conv2D)        (None, 14, 14, 512)       2359808   \n",
            "_________________________________________________________________\n",
            "block4_conv3 (Conv2D)        (None, 14, 14, 512)       2359808   \n",
            "_________________________________________________________________\n",
            "block4_pool (MaxPooling2D)   (None, 7, 7, 512)         0         \n",
            "_________________________________________________________________\n",
            "block5_conv1 (Conv2D)        (None, 7, 7, 512)         2359808   \n",
            "_________________________________________________________________\n",
            "block5_conv2 (Conv2D)        (None, 7, 7, 512)         2359808   \n",
            "_________________________________________________________________\n",
            "block5_conv3 (Conv2D)        (None, 7, 7, 512)         2359808   \n",
            "_________________________________________________________________\n",
            "block5_pool (MaxPooling2D)   (None, 3, 3, 512)         0         \n",
            "_________________________________________________________________\n",
            "global_max_pooling2d_2 (Glob (None, 512)               0         \n",
            "=================================================================\n",
            "Total params: 14,714,688\n",
            "Trainable params: 14,714,688\n",
            "Non-trainable params: 0\n",
            "_________________________________________________________________\n"
          ],
          "name": "stdout"
        }
      ]
    },
    {
      "cell_type": "markdown",
      "metadata": {
        "id": "8URy9vWI4_kI"
      },
      "source": [
        "Fully connected Layers"
      ]
    },
    {
      "cell_type": "code",
      "metadata": {
        "id": "y97Eh5rJ4pNf"
      },
      "source": [
        "model = Sequential()\n",
        "\n",
        "model.add(Base_model)\n",
        "model.add(Dense(256,activation='relu'))\n",
        "model.add(Dense(2,activation=\"softmax\"))\n",
        "Base_model.trainable = False"
      ],
      "execution_count": 55,
      "outputs": []
    },
    {
      "cell_type": "markdown",
      "metadata": {
        "id": "19y1Oviy7IXu"
      },
      "source": [
        "Annealer"
      ]
    },
    {
      "cell_type": "code",
      "metadata": {
        "id": "4NoV-sHU7JG3"
      },
      "source": [
        "# Learning rate\n",
        "red_lr=ReduceLROnPlateau(monitor='val_acc', factor=0.1, min_delta=0.0001, patience=2, verbose=1)"
      ],
      "execution_count": 56,
      "outputs": []
    },
    {
      "cell_type": "markdown",
      "metadata": {
        "id": "-I3tCn8F7cdW"
      },
      "source": [
        "Data augmentation to prevent Overfitting"
      ]
    },
    {
      "cell_type": "code",
      "metadata": {
        "id": "mcqcvhJc7c-O"
      },
      "source": [
        "datagen = ImageDataGenerator(featurewise_center= False,\n",
        "                              samplewise_center= False,\n",
        "                              featurewise_std_normalization= False,\n",
        "                              samplewise_std_normalization=False,\n",
        "                              rotation_range= 0,        \n",
        "                              zca_whitening=False,\n",
        "                              zoom_range=0.1,           \n",
        "                              width_shift_range=0.1,   \n",
        "                              height_shift_range=0.1,    \n",
        "                              horizontal_flip=True,     \n",
        "                              vertical_flip=False)       \n",
        "                             \n",
        "datagen.fit(X_train)"
      ],
      "execution_count": 57,
      "outputs": []
    },
    {
      "cell_type": "code",
      "metadata": {
        "colab": {
          "base_uri": "https://localhost:8080/"
        },
        "id": "dAPa_LVT7wrg",
        "outputId": "694ff292-cd81-45e9-e255-e28021f1e9b3"
      },
      "source": [
        "model.summary()"
      ],
      "execution_count": 58,
      "outputs": [
        {
          "output_type": "stream",
          "text": [
            "Model: \"sequential_4\"\n",
            "_________________________________________________________________\n",
            "Layer (type)                 Output Shape              Param #   \n",
            "=================================================================\n",
            "vgg16 (Functional)           (None, 512)               14714688  \n",
            "_________________________________________________________________\n",
            "dense_8 (Dense)              (None, 256)               131328    \n",
            "_________________________________________________________________\n",
            "dense_9 (Dense)              (None, 2)                 514       \n",
            "=================================================================\n",
            "Total params: 14,846,530\n",
            "Trainable params: 131,842\n",
            "Non-trainable params: 14,714,688\n",
            "_________________________________________________________________\n"
          ],
          "name": "stdout"
        }
      ]
    },
    {
      "cell_type": "markdown",
      "metadata": {
        "id": "HcjSjS8t714I"
      },
      "source": [
        "Compile and train the model"
      ]
    },
    {
      "cell_type": "code",
      "metadata": {
        "id": "WE6fSwnp71Tp"
      },
      "source": [
        "model.compile(optimizer=Adam(lr = 5e-5), loss= 'categorical_crossentropy', metrics=['accuracy'])"
      ],
      "execution_count": 78,
      "outputs": []
    },
    {
      "cell_type": "code",
      "metadata": {
        "colab": {
          "base_uri": "https://localhost:8080/"
        },
        "id": "fhCwabMn8GFu",
        "outputId": "8cfa9380-9572-497d-efc4-ba00052298f0"
      },
      "source": [
        "batch_size=64\n",
        "History = model.fit_generator(datagen.flow(X_train,y_train, batch_size=batch_size),\n",
        "                              epochs = 3, validation_data = (X_test,y_test),                            \n",
        "                              verbose = 1, steps_per_epoch=X_train.shape[0] // batch_size)"
      ],
      "execution_count": 79,
      "outputs": [
        {
          "output_type": "stream",
          "text": [
            "Epoch 1/3\n",
            "25/25 [==============================] - 252s 10s/step - loss: 0.4067 - accuracy: 0.8145 - val_loss: 0.5544 - val_accuracy: 0.7150\n",
            "Epoch 2/3\n",
            "25/25 [==============================] - 250s 10s/step - loss: 0.3976 - accuracy: 0.8353 - val_loss: 0.5370 - val_accuracy: 0.7300\n",
            "Epoch 3/3\n",
            "25/25 [==============================] - 251s 10s/step - loss: 0.4102 - accuracy: 0.8113 - val_loss: 0.5403 - val_accuracy: 0.7350\n"
          ],
          "name": "stdout"
        }
      ]
    },
    {
      "cell_type": "code",
      "metadata": {
        "id": "fyPF1BxjCMPn",
        "colab": {
          "base_uri": "https://localhost:8080/",
          "height": 297
        },
        "outputId": "538fb85a-c820-4dcf-e849-426b4ee5fab1"
      },
      "source": [
        "plt.plot(History.epoch, History.history['accuracy'])\n",
        "plt.plot(History.epoch, History.history['val_accuracy'])\n",
        "plt.xlabel('Epochs')\n",
        "plt.ylabel('Accuracy')"
      ],
      "execution_count": 80,
      "outputs": [
        {
          "output_type": "execute_result",
          "data": {
            "text/plain": [
              "Text(0, 0.5, 'Accuracy')"
            ]
          },
          "metadata": {
            "tags": []
          },
          "execution_count": 80
        },
        {
          "output_type": "display_data",
          "data": {
            "image/png": "[encoded data removed]",
            "text/plain": [
              "<Figure size 432x288 with 1 Axes>"
            ]
          },
          "metadata": {
            "tags": [],
            "needs_background": "light"
          }
        }
      ]
    },
    {
      "cell_type": "code",
      "metadata": {
        "id": "IhUwuEY9CSGL",
        "colab": {
          "base_uri": "https://localhost:8080/",
          "height": 299
        },
        "outputId": "6a5facfe-07a2-4d2b-a5ff-f14d34eeee3f"
      },
      "source": [
        "plt.plot(History.epoch, History.history['loss'])\n",
        "plt.plot(History.epoch, History.history['val_loss'])\n",
        "plt.legend(['train', 'test'])\n",
        "plt.xlabel('Epochs')\n",
        "plt.ylabel('Loss')"
      ],
      "execution_count": 81,
      "outputs": [
        {
          "output_type": "execute_result",
          "data": {
            "text/plain": [
              "Text(0, 0.5, 'Loss')"
            ]
          },
          "metadata": {
            "tags": []
          },
          "execution_count": 81
        },
        {
          "output_type": "display_data",
          "data": {
            "image/png": "[encoded data removed]",
            "text/plain": [
              "<Figure size 432x288 with 1 Axes>"
            ]
          },
          "metadata": {
            "tags": [],
            "needs_background": "light"
          }
        }
      ]
    },
    {
      "cell_type": "code",
      "metadata": {
        "colab": {
          "base_uri": "https://localhost:8080/",
          "height": 287
        },
        "id": "TXQMFJDP0BcJ",
        "outputId": "6dadb280-d9d6-4a05-b3a1-19dbc85b9a2f"
      },
      "source": [
        "import numpy as np\n",
        "from keras.preprocessing import image\n",
        "\n",
        "path = '/content/drive/MyDrive/ColabNotebooks/data/test/orange/orange_2.jpg'\n",
        "test_img = cv2.imread(path)\n",
        "test_img = cv2.resize(test_img,(224,224))\n",
        "test_img = cv2.cvtColor(test_img, cv2.COLOR_BGR2RGB)\n",
        "plt.imshow(test_img)\n",
        "plt.show()\n",
        "\n",
        "img = image.load_img(path, target_size = (img_size, img_size))\n",
        "img = image.img_to_array(img)\n",
        "img = np.expand_dims(img, axis = 0)\n",
        "result = model.predict(img)\n",
        "\n",
        "if result[0][0] == 1:\n",
        "  prediction = 'apple'\n",
        "else:\n",
        "  prediction = 'orange'\n",
        "print(prediction)"
      ],
      "execution_count": 82,
      "outputs": [
        {
          "output_type": "display_data",
          "data": {
            "image/png": "[encoded data removed]",
            "text/plain": [
              "<Figure size 432x288 with 1 Axes>"
            ]
          },
          "metadata": {
            "tags": [],
            "needs_background": "light"
          }
        },
        {
          "output_type": "stream",
          "text": [
            "orange\n"
          ],
          "name": "stdout"
        }
      ]
    },
    {
      "cell_type": "markdown",
      "metadata": {
        "id": "FTMy1aCEcCWj"
      },
      "source": [
        "Save model\n"
      ]
    },
    {
      "cell_type": "code",
      "metadata": {
        "id": "-r3bdp_wcBPh"
      },
      "source": [
        "model.save(\"model3.h5\")"
      ],
      "execution_count": 85,
      "outputs": []
    },
    {
      "cell_type": "code",
      "metadata": {
        "colab": {
          "base_uri": "https://localhost:8080/"
        },
        "id": "X3RNXqETJggz",
        "outputId": "b842501d-904b-4dcd-c0f8-c76c2556dc56"
      },
      "source": [
        "import sys\n",
        "import numpy\n",
        "numpy.set_printoptions(threshold=sys.maxsize)\n",
        "\n",
        "weights_1 = model.layers[2].get_weights()[0]\n",
        "\n",
        "print(\"block1_conv2d1:\\n\", weights_1)\n"
      ],
      "execution_count": 84,
      "outputs": [
        {
          "output_type": "stream",
          "text": [
            "block1_conv2d1:\n",
            " [[ 0.05211165  0.1367744 ]\n",
            " [-0.08682537  0.15331246]\n",
            " [-0.10550633  0.09400705]\n",
            " [ 0.03688201  0.13837694]\n",
            " [-0.02558929 -0.00198105]\n",
            " [-0.03013561  0.03870212]\n",
            " [ 0.07863408 -0.10761449]\n",
            " [ 0.08347844 -0.10531823]\n",
            " [-0.10309941  0.10876691]\n",
            " [ 0.09132297 -0.053595  ]\n",
            " [ 0.13529745 -0.11236818]\n",
            " [-0.06626373 -0.0151953 ]\n",
            " [-0.13361679  0.08233898]\n",
            " [ 0.12664127 -0.13654648]\n",
            " [ 0.07306752  0.03427773]\n",
            " [-0.17234908  0.0550578 ]\n",
            " [-0.06690675  0.01517238]\n",
            " [ 0.05103511  0.13811526]\n",
            " [-0.16231374 -0.04702413]\n",
            " [-0.01244967 -0.01250037]\n",
            " [ 0.12217374 -0.02333051]\n",
            " [-0.1156805  -0.08346337]\n",
            " [ 0.01966249  0.04581781]\n",
            " [ 0.03986434  0.10040709]\n",
            " [-0.0604541   0.14488909]\n",
            " [ 0.03382582 -0.04040866]\n",
            " [ 0.04476376  0.15995936]\n",
            " [-0.02724193  0.02406845]\n",
            " [ 0.08262637  0.11199734]\n",
            " [-0.05204458 -0.10140213]\n",
            " [ 0.1415885   0.04950609]\n",
            " [-0.11699205  0.1381458 ]\n",
            " [-0.16958672 -0.05682615]\n",
            " [-0.13654107  0.07133337]\n",
            " [ 0.09854519 -0.08017813]\n",
            " [ 0.14617716  0.02766525]\n",
            " [ 0.07005823 -0.02663251]\n",
            " [-0.09626909 -0.12311701]\n",
            " [-0.08079936  0.0724014 ]\n",
            " [ 0.15677778  0.11766993]\n",
            " [ 0.08625919 -0.06904432]\n",
            " [-0.14212349  0.11657631]\n",
            " [ 0.13424851  0.00708522]\n",
            " [ 0.05779962 -0.07616639]\n",
            " [ 0.02330566  0.11077631]\n",
            " [-0.01724309  0.14198129]\n",
            " [-0.03516364  0.07871577]\n",
            " [ 0.08480165 -0.05880851]\n",
            " [ 0.06027413  0.03405586]\n",
            " [-0.07218034 -0.12106981]\n",
            " [ 0.02939317 -0.08560949]\n",
            " [ 0.02800741 -0.09990753]\n",
            " [ 0.07726065 -0.01446268]\n",
            " [-0.07887838  0.04795723]\n",
            " [ 0.09903503  0.03467115]\n",
            " [ 0.09557533 -0.10161215]\n",
            " [-0.03117316  0.09228175]\n",
            " [ 0.11729392 -0.00324981]\n",
            " [ 0.09180894 -0.10793129]\n",
            " [-0.10783479  0.10270795]\n",
            " [-0.02204854  0.04670524]\n",
            " [ 0.11561777 -0.1326995 ]\n",
            " [-0.03936025 -0.13015294]\n",
            " [ 0.08604971 -0.1325686 ]\n",
            " [ 0.016582    0.10189425]\n",
            " [ 0.05537482 -0.09078541]\n",
            " [ 0.14770229 -0.09763036]\n",
            " [-0.08753017 -0.00617751]\n",
            " [ 0.10080224  0.15310201]\n",
            " [-0.01018798  0.1546338 ]\n",
            " [-0.08005057  0.04612633]\n",
            " [-0.02560563 -0.05690905]\n",
            " [-0.07549792  0.07925462]\n",
            " [-0.05214553 -0.15758954]\n",
            " [ 0.01693397  0.06095281]\n",
            " [-0.05728554  0.15715896]\n",
            " [ 0.10251697 -0.16943043]\n",
            " [ 0.15833925 -0.01785521]\n",
            " [-0.11498196 -0.03401832]\n",
            " [-0.03791745  0.02911367]\n",
            " [ 0.09982216 -0.08522186]\n",
            " [ 0.14678355  0.01746129]\n",
            " [-0.14304064  0.01992789]\n",
            " [ 0.043595    0.00264836]\n",
            " [-0.10378014 -0.018341  ]\n",
            " [-0.12927383  0.11226039]\n",
            " [ 0.00667568 -0.04284165]\n",
            " [ 0.06528763  0.1574492 ]\n",
            " [ 0.00404431 -0.06769924]\n",
            " [-0.0937231  -0.0556606 ]\n",
            " [ 0.06056004 -0.05694034]\n",
            " [-0.08009965  0.10730282]\n",
            " [-0.15462394  0.00080277]\n",
            " [ 0.14398417 -0.12463582]\n",
            " [ 0.09309377 -0.12342776]\n",
            " [ 0.00262704 -0.13176057]\n",
            " [ 0.04828808  0.01844828]\n",
            " [-0.11465038 -0.05366601]\n",
            " [-0.02075036  0.10808715]\n",
            " [-0.11967333  0.10040151]\n",
            " [ 0.02438118  0.11759803]\n",
            " [ 0.06511455 -0.10154119]\n",
            " [ 0.13969792 -0.00608094]\n",
            " [ 0.06851619  0.13944563]\n",
            " [-0.14685397  0.02378642]\n",
            " [-0.00928773  0.10968357]\n",
            " [-0.1286653   0.00084101]\n",
            " [ 0.02818538 -0.10155146]\n",
            " [ 0.03225508 -0.00936319]\n",
            " [ 0.0518773   0.12216002]\n",
            " [-0.12884577  0.07336077]\n",
            " [ 0.04548958  0.10169531]\n",
            " [-0.0340449  -0.0319482 ]\n",
            " [ 0.01349147  0.1518647 ]\n",
            " [-0.1123426  -0.04818858]\n",
            " [ 0.03347733 -0.04701402]\n",
            " [-0.1464995  -0.09371051]\n",
            " [-0.07351522 -0.02645176]\n",
            " [ 0.08630428 -0.03984931]\n",
            " [ 0.02217948 -0.04565138]\n",
            " [-0.0827267   0.13604651]\n",
            " [-0.11963816  0.14255911]\n",
            " [-0.0855503  -0.04174472]\n",
            " [ 0.16715351 -0.02579454]\n",
            " [ 0.13672918  0.06356255]\n",
            " [ 0.12334911  0.01644575]\n",
            " [-0.0599483  -0.01557415]\n",
            " [ 0.02460173 -0.13264287]\n",
            " [ 0.10803632  0.1070589 ]\n",
            " [ 0.17166077 -0.05600085]\n",
            " [-0.01144036 -0.10622454]\n",
            " [ 0.1609509  -0.02530968]\n",
            " [-0.04268697  0.10367519]\n",
            " [ 0.12957552  0.13197112]\n",
            " [ 0.04352426  0.14670967]\n",
            " [ 0.06142215 -0.01250508]\n",
            " [-0.05122827  0.10433705]\n",
            " [ 0.00147738 -0.1145773 ]\n",
            " [-0.10399343 -0.01413487]\n",
            " [-0.09281924 -0.04901574]\n",
            " [-0.15629417 -0.04558832]\n",
            " [ 0.10905405  0.03367683]\n",
            " [-0.10796881 -0.12926564]\n",
            " [-0.14687762 -0.12024888]\n",
            " [ 0.03251356  0.09775802]\n",
            " [-0.13023663  0.02665551]\n",
            " [-0.09288909 -0.05874771]\n",
            " [ 0.12796584  0.10455892]\n",
            " [ 0.01250459  0.06019821]\n",
            " [-0.02652297  0.11706199]\n",
            " [-0.01793769 -0.09577049]\n",
            " [ 0.01969308  0.17155798]\n",
            " [-0.04417827 -0.03494542]\n",
            " [-0.10219617 -0.07919653]\n",
            " [-0.12346091 -0.06115571]\n",
            " [-0.06015722 -0.01213931]\n",
            " [ 0.00636682  0.05594375]\n",
            " [-0.08446509  0.15168278]\n",
            " [-0.02187734  0.04693389]\n",
            " [ 0.06174046  0.16369617]\n",
            " [-0.10034046  0.07039502]\n",
            " [-0.13395993  0.02709364]\n",
            " [ 0.13699159  0.05619292]\n",
            " [-0.06553057 -0.1332531 ]\n",
            " [ 0.12781891  0.01040509]\n",
            " [ 0.14600447  0.10025558]\n",
            " [ 0.09056181 -0.08820902]\n",
            " [ 0.09036358  0.15265836]\n",
            " [-0.12936091  0.10839776]\n",
            " [ 0.05002141  0.06472804]\n",
            " [ 0.00794459  0.07174061]\n",
            " [ 0.0871383  -0.03990092]\n",
            " [-0.08939087 -0.13347471]\n",
            " [ 0.13098888 -0.12867633]\n",
            " [ 0.13179971  0.03147957]\n",
            " [-0.12810883 -0.09881741]\n",
            " [-0.08797137 -0.0645904 ]\n",
            " [ 0.13716355  0.0288728 ]\n",
            " [-0.14047146  0.04758208]\n",
            " [-0.04017126  0.07108169]\n",
            " [-0.1425262  -0.04816461]\n",
            " [-0.07055051  0.00505152]\n",
            " [ 0.14192435 -0.12143268]\n",
            " [-0.16477954  0.12029374]\n",
            " [ 0.10293917 -0.08062302]\n",
            " [-0.1459871   0.12366015]\n",
            " [ 0.03624195  0.1610541 ]\n",
            " [-0.14291267  0.06152622]\n",
            " [-0.06110385  0.01179237]\n",
            " [ 0.16284104  0.12267712]\n",
            " [-0.10063633  0.11144789]\n",
            " [ 0.02345103 -0.01342632]\n",
            " [ 0.0711058  -0.08164778]\n",
            " [ 0.1062693  -0.0428874 ]\n",
            " [-0.162421    0.02926171]\n",
            " [-0.0481315  -0.13662131]\n",
            " [ 0.012244   -0.10434859]\n",
            " [-0.00134106  0.0623811 ]\n",
            " [-0.13453437  0.01972947]\n",
            " [ 0.02277758  0.06636918]\n",
            " [ 0.01912882  0.04997564]\n",
            " [ 0.01466295  0.11652171]\n",
            " [ 0.14382845  0.03517271]\n",
            " [ 0.0129466   0.10360575]\n",
            " [ 0.01213342  0.05899012]\n",
            " [-0.02296693 -0.05697073]\n",
            " [-0.03622908  0.08739262]\n",
            " [-0.11584564  0.04836741]\n",
            " [ 0.06874073  0.03655669]\n",
            " [ 0.12351841 -0.05199064]\n",
            " [-0.00200468  0.06434784]\n",
            " [-0.12446067  0.13125144]\n",
            " [-0.01282075 -0.08800098]\n",
            " [-0.01991935  0.08887997]\n",
            " [ 0.1179692   0.05462198]\n",
            " [ 0.02309727  0.1229321 ]\n",
            " [ 0.11301905  0.05936892]\n",
            " [ 0.08352081  0.1484914 ]\n",
            " [ 0.01593392  0.06302094]\n",
            " [ 0.13352333  0.00502763]\n",
            " [-0.13963625 -0.11480147]\n",
            " [-0.05497948  0.06446997]\n",
            " [ 0.08226526 -0.06562167]\n",
            " [-0.02312856 -0.04713359]\n",
            " [-0.0846942   0.15897721]\n",
            " [-0.01327769  0.09379764]\n",
            " [ 0.03284918 -0.0144355 ]\n",
            " [-0.00131471  0.03716643]\n",
            " [-0.00356177  0.13890444]\n",
            " [ 0.10270257  0.01708225]\n",
            " [-0.04392436 -0.1280108 ]\n",
            " [-0.13565363  0.04249242]\n",
            " [-0.00217171  0.11311845]\n",
            " [-0.06940822  0.00080604]\n",
            " [-0.10794797  0.11538067]\n",
            " [ 0.04525181 -0.0660736 ]\n",
            " [-0.09710085  0.01228765]\n",
            " [ 0.11714854 -0.14870936]\n",
            " [ 0.15917131 -0.04646626]\n",
            " [-0.14171112  0.04595005]\n",
            " [ 0.10732594  0.07657866]\n",
            " [ 0.00567062 -0.14855815]\n",
            " [ 0.03217647 -0.09938218]\n",
            " [-0.04170923  0.11718979]\n",
            " [-0.01977917 -0.05707324]\n",
            " [-0.0269211   0.02742852]\n",
            " [ 0.0612385   0.12435874]\n",
            " [ 0.02593576 -0.13219276]\n",
            " [ 0.15344794  0.07656337]\n",
            " [ 0.11045824  0.02347386]\n",
            " [-0.01392046 -0.04704951]\n",
            " [ 0.02156243  0.12813067]\n",
            " [ 0.04530569 -0.12052229]\n",
            " [ 0.0755135  -0.01175575]\n",
            " [-0.01012221  0.08437051]\n",
            " [ 0.12386766  0.07946065]]\n"
          ],
          "name": "stdout"
        }
      ]
    },
    {
      "cell_type": "code",
      "metadata": {
        "id": "7UCPLO1Kc8Pc"
      },
      "source": [
        "import h5py\n",
        "import numpy as np\n",
        "\n",
        "weights_path = '/content/drive/MyDrive/ColabNotebooks/data/model2.h5' \n",
        "f = h5py.File(weights_path)\n",
        "\n",
        "list_blocks = ['block1_conv1', 'block1_conv2', 'block2_conv1', 'block2_conv2', 'block3_conv1', 'block3_conv2', \n",
        "'block3_conv3', 'block4_conv1', 'block4_conv2', 'block4_conv3', 'block5_conv1', 'block5_conv2', 'block5_conv3']\n",
        "def write_weights(file_b,file_k, file_in, block):\n",
        "    for listweights in (file_in[\"model_weights\"][\"vgg16\"][block][\"bias:0\"]):\n",
        "        file_b.writelines('%s\\n' % listweights)\n",
        "    for listweights in (file_in[\"model_weights\"][\"vgg16\"][block][\"kernel:0\"]):\n",
        "        for i in range(3):\n",
        "            if(i==0):\n",
        "                file_k.write(\"Channel B\\n\")\n",
        "                np.savetxt(file_k, listweights[i])\n",
        "            if(i==1):\n",
        "                file_k.write(\"Channel G\\n\")\n",
        "                np.savetxt(file_k, listweights[i])\n",
        "            if(i==2):\n",
        "                file_k.write(\"Channel R\\n\")\n",
        "                np.savetxt(file_k, listweights[i])\n",
        "    return file_b, file_k\n",
        "\n",
        "f1_b = open('block1_conv1_bias.txt', 'w')\n",
        "f1_k = open('block1_conv1_kernel.txt', 'w')\n",
        "write_weights(f1_b, f1_k, f,list_blocks[0])\n",
        "f1_b.close()\n",
        "f1_k.close()\n",
        "\n",
        "f2_b = open('block1_conv2_bias.txt', 'w')\n",
        "f2_k = open('block1_conv2_kernel.txt', 'w')\n",
        "write_weights(f2_b, f2_k, f, list_blocks[1])\n",
        "f2_b.close()\n",
        "f2_k.close()\n",
        "\n",
        "f3_b = open('block2_conv1_bias.txt', 'w')\n",
        "f3_k = open('block2_conv1_kernel.txt', 'w')\n",
        "write_weights(f3_b, f3_k, f, list_blocks[2])\n",
        "f3_b.close()\n",
        "f3_k.close()\n",
        "\n",
        "f4_b = open('block2_conv2_bias.txt', 'w')\n",
        "f4_k = open('block2_conv2_kernel.txt', 'w')\n",
        "write_weights(f4_b, f4_k, f, list_blocks[3]) \n",
        "f4_b.close()\n",
        "f4_k.close()\n",
        "\n",
        "f5_b = open('block3_conv1_bias.txt', 'w')\n",
        "f5_k = open('block3_conv1_kernel.txt', 'w')\n",
        "write_weights(f5_b, f5_k, f, list_blocks[4])\n",
        "f5_b.close()\n",
        "f5_k.close()\n",
        "\n",
        "f6_b = open('block3_conv2_bias.txt', 'w')\n",
        "f6_k = open('block3_conv2_kernel.txt', 'w')\n",
        "write_weights(f6_b, f6_k, f, list_blocks[5])\n",
        "f6_b.close()\n",
        "f6_k.close()\n",
        "\n",
        "f7_b = open('block3_conv3_bias.txt', 'w')\n",
        "f7_k = open('block3_conv3_kernel.txt', 'w')\n",
        "write_weights(f7_b, f7_k, f, list_blocks[6]) \n",
        "f7_b.close()\n",
        "f7_k.close()\n",
        "\n",
        "f8_b = open('block4_conv1_bias.txt', 'w')\n",
        "f8_k = open('block4_conv1_kernel.txt', 'w')\n",
        "write_weights(f8_b, f8_k, f, list_blocks[7])\n",
        "f8_b.close()\n",
        "f8_k.close()\n",
        "\n",
        "f9_b = open('block4_conv2_bias.txt', 'w')\n",
        "f9_k = open('block4_conv2_kernel.txt', 'w')\n",
        "write_weights(f9_b, f9_k, f, list_blocks[8])   \n",
        "f9_b.close()\n",
        "f9_k.close()\n",
        "\n",
        "f10_b = open('block4_conv3_bias.txt', 'w')\n",
        "f10_k = open('block4_conv3_kernel.txt', 'w')\n",
        "write_weights(f10_b, f10_k, f, list_blocks[9])   \n",
        "f10_b.close()\n",
        "f10_k.close()\n",
        "\n",
        "f11_b = open('block5_conv1_bias.txt', 'w')\n",
        "f11_k = open('block5_conv1_kernel.txt', 'w')\n",
        "write_weights(f11_b, f11_k, f, list_blocks[10])  \n",
        "f11_b.close()\n",
        "f11_k.close()\n",
        "\n",
        "f12_b = open('block5_conv2_bias.txt', 'w')\n",
        "f12_k = open('block5_conv2_kernel.txt', 'w')\n",
        "write_weights(f12_b, f12_k, f, list_blocks[11])   \n",
        "f12_b.close()\n",
        "f12_k.close()\n",
        "\n",
        "\n",
        "f13_b = open('block5_conv3_bias.txt', 'w')\n",
        "f13_k = open('block5_conv3_kernel.txt', 'w')\n",
        "write_weights(f13_b, f13_k, f, list_blocks[12])   \n",
        "f13_b.close()\n",
        "f13_k.close()"
      ],
      "execution_count": 77,
      "outputs": []
    },
    {
      "cell_type": "code",
      "metadata": {
        "id": "OSL3WVqQKLF3"
      },
      "source": [
        "import struct\n",
        "def binary(num):\n",
        "    return ''.join('{:0>8b}'.format(c) for c in struct.pack('!f', num))"
      ],
      "execution_count": 74,
      "outputs": []
    },
    {
      "cell_type": "code",
      "metadata": {
        "id": "xToDP2hRh0iu"
      },
      "source": [
        ""
      ],
      "execution_count": null,
      "outputs": []
    }
  ]
}